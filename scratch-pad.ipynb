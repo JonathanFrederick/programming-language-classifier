{
 "cells": [
  {
   "cell_type": "code",
   "execution_count": 1,
   "metadata": {
    "collapsed": false
   },
   "outputs": [],
   "source": [
    "from bs4 import BeautifulSoup\n",
    "import requests\n",
    "import re\n",
    "import numpy as np\n",
    "from sklearn.base import TransformerMixin\n",
    "from sklearn.pipeline import make_pipeline, make_union\n",
    "from sklearn.tree import DecisionTreeClassifier\n",
    "from sklearn.cross_validation import train_test_split\n",
    "from sklearn.metrics import classification_report, confusion_matrix"
   ]
  },
  {
   "cell_type": "code",
   "execution_count": 2,
   "metadata": {
    "collapsed": false
   },
   "outputs": [],
   "source": [
    "urls_page = BeautifulSoup(requests \\\n",
    "            .get('http://rosettacode.org/wiki/Category:Solutions_by_Programming_Task') \\\n",
    "            .content, 'html.parser').find_all('div', {'class' : 'mw-content-ltr'})[-1]"
   ]
  },
  {
   "cell_type": "code",
   "execution_count": 3,
   "metadata": {
    "collapsed": false
   },
   "outputs": [],
   "source": [
    "#urls_page.find('div', {'class' : 'mw-content-ltr'})\n",
    "urls = re.findall(r'href=\"(.*)\" ', str(urls_page))#[:35]\n",
    "pages = [BeautifulSoup(requests.get('http://rosettacode.org'+url) \\\n",
    "                       .content, 'html.parser') for url in urls]"
   ]
  },
  {
   "cell_type": "code",
   "execution_count": 4,
   "metadata": {
    "collapsed": false
   },
   "outputs": [],
   "source": [
    "#doors = requests.get('http://rosettacode.org/wiki/100_doors')\n",
    "\n",
    "# doors = BeautifulSoup(requests.get('http://rosettacode.org/wiki/100_doors') \\\n",
    "#                       .content, 'html.parser')\n",
    "\n"
   ]
  },
  {
   "cell_type": "code",
   "execution_count": 5,
   "metadata": {
    "collapsed": false
   },
   "outputs": [],
   "source": [
    "# doors.prettify"
   ]
  },
  {
   "cell_type": "code",
   "execution_count": 6,
   "metadata": {
    "collapsed": false
   },
   "outputs": [],
   "source": [
    "langs = ['c', 'csharp', 'lisp', 'clojure', 'haskell', \n",
    "         'java', 'javascript', 'ocaml', 'perl', 'php', \n",
    "         'python', 'ruby', 'scala', 'scheme']\n",
    "\n",
    "# lang_dict = {lang : '' for lang in langs}\n",
    "lang_X = []\n",
    "lang_y = []\n",
    "\n",
    "for page in pages:\n",
    "    for string in page.find_all('pre'):\n",
    "        for lang in langs:\n",
    "            if re.search(r'\"'+ lang + ' hi', str(string)):\n",
    "                # lang_dict[lang] = lang_dict[lang] + string.get_text()\n",
    "                lang_X.append(string.get_text())\n",
    "                lang_y.append(lang)\n",
    "#print(lang_dict)"
   ]
  },
  {
   "cell_type": "code",
   "execution_count": 8,
   "metadata": {
    "collapsed": true
   },
   "outputs": [],
   "source": [
    "class FunctionFeaturizer(TransformerMixin):\n",
    "    def __init__(self, *featurizers):\n",
    "        self.featurizers = featurizers\n",
    "        \n",
    "    def fit(self, X, y=None):\n",
    "        '''Returns self after transformations'''\n",
    "        return self\n",
    "    \n",
    "    def transform(self, X):\n",
    "        '''Given a list of original data, return a list of feature vectors'''\n",
    "        feature_vectors = []\n",
    "        for x in X:\n",
    "            feature_vector = [f(x) for f in self.featurizers]\n",
    "            feature_vectors.append(feature_vector)\n",
    "        return np.array(feature_vectors)"
   ]
  },
  {
   "cell_type": "code",
   "execution_count": 478,
   "metadata": {
    "collapsed": false
   },
   "outputs": [],
   "source": [
    "# chars = ['(', ')', '{', '}', '[', ']', '<', '>', '$', '/', ' ', '\\t']\n",
    "# frequencies = [lambda text: text.count(char)/len(text) for char in chars]\n",
    "def paren_freq(text):\n",
    "    '''checks the frequency of the ( character'''\n",
    "    return text.count('(')/len(text)\n",
    "\n",
    "def thesis_freq(text):\n",
    "    '''checks the frequency of the ) character'''\n",
    "    return text.count(')')/len(text)\n",
    "def paren_colon(text):\n",
    "    return text.count('(:')/len(text)\n",
    "def paren_plus(text):\n",
    "    return text.count('(+')/len(text)\n",
    "def brac_freq(text):\n",
    "    '''checks the frequency of the ) character'''\n",
    "    return text.count('[')/len(text)\n",
    "def carrot_freq(text):\n",
    "    return text.count('^')/len(text)\n",
    "def ket_freq(text):\n",
    "    '''checks the frequency of the ) character'''\n",
    "    return text.count(']')/len(text)\n",
    "def brackets_freq(text):\n",
    "    return text.count('{}')/len(text)\n",
    "# print(*frequencies)\n",
    "def lesser_freq(text):\n",
    "    '''checks the frequency of the ) character'''\n",
    "    return text.count('<')/len(text)\n",
    "def greater_freq(text):\n",
    "    '''checks the frequency of the ) character'''\n",
    "    return text.count('>')/len(text)\n",
    "def slash_freq(text):\n",
    "    '''checks the frequency of the ) character'''\n",
    "    return text.count('/')/len(text)\n",
    "def dollar_freq(text):\n",
    "    '''checks the frequency of the ) character'''\n",
    "    return text.count('$')/len(text)\n",
    "def double_quote_freq(text):\n",
    "    '''checks the frequency of the ) character'''\n",
    "    return text.count('\"')/len(text)\n",
    "def space_freq(text):\n",
    "    '''checks the frequency of the ) character'''\n",
    "    return text.count(' ')/len(text)\n",
    "def semi_freq(text):\n",
    "    '''checks the frequency of the ) character'''\n",
    "    return text.count(';')/len(text)\n",
    "def colon_freq(text):\n",
    "    '''checks the frequency of the ) character'''\n",
    "    return text.count(':')/len(text)\n",
    "\n",
    "\n",
    "def at_freq(text):\n",
    "    '''checks the frequency of the ) character'''\n",
    "    return text.count('@')/len(text)\n",
    "def star_freq(text):\n",
    "    '''checks the frequency of the ) character'''\n",
    "    return text.count('*')/len(text)\n",
    "def pipe_freq(text):\n",
    "    return text.count('|')/len(text)\n",
    "def pipe_2_freq(text):\n",
    "    return text.count('||')/len(text)\n",
    "def and_2_freq(text):\n",
    "    return text.count('&&')/len(text)\n",
    "def __freq(text):\n",
    "    return text.count('_')/len(text)\n",
    "def hyph_freq(text):\n",
    "    return text.count('-')/len(text)\n",
    "def dundr_freq(text):\n",
    "    return text.count('__')/len(text)\n",
    "def arrow_freq(text):\n",
    "    return text.count('->')/len(text)\n",
    "def arrow_2_freq(text):\n",
    "    return text.count('=>')/len(text)\n",
    "def slash_splat_freq(text):\n",
    "    return text.count('/*')/len(text)\n",
    "def quote_paren_freq(text):\n",
    "    return text.count(\"'(\")/len(text)\n",
    "def space_dot_freq(text):\n",
    "    return text.count(' . ')/len(text)\n",
    "def slash_2_freq(text):\n",
    "    return text.count('//')/len(text)\n",
    "def hyph_2_freq(text):\n",
    "    return text.count('--')/len(text)\n",
    "def curl_hyph_freq(text):\n",
    "    return text.count('{-')/len(text)\n",
    "\n",
    "def from_freq(text):\n",
    "    return text.count('from')/len(text)\n",
    "def let_freq(text):\n",
    "    return text.count('let')/len(text)\n",
    "def val_freq(text):\n",
    "    return text.count('val')/len(text)\n",
    "def class_freq(text):\n",
    "    return text.count('class')/len(text)\n",
    "def subst_freq(text):\n",
    "    return text.count('subst')/len(text)\n",
    "def new_freq(text):\n",
    "    return text.count('new')/len(text)\n",
    "def old_freq(text):\n",
    "    return text.count('old')/len(text)\n",
    "def p_extend_freq(text):\n",
    "    return text.count('(extend')/len(text)\n",
    "def p_extend_hyph_freq(text):\n",
    "    return text.count('(extend-')/len(text)\n",
    "def defn_freq(text):\n",
    "    return text.count('defn')/len(text)\n",
    "def println_freq(text):\n",
    "    return text.count('println')/len(text)\n",
    "\n",
    "def import_freq(text):\n",
    "    return text.count('import')/len(text)\n",
    "\n",
    "def call_freq(text):\n",
    "    return text.count('call')/len(text)\n",
    "\n",
    "def null_freq(text):\n",
    "    return text.count('null')/len(text)\n",
    "\n",
    "def NIL_freq(text):\n",
    "    return text.count('NIL')/len(text)\n",
    "def using_freq(text):\n",
    "    return text.count('using')/len(text)\n",
    "def static_freq(text):\n",
    "    return text.count('static')/len(text)\n",
    "def Console_freq(text):\n",
    "    return text.count('Console')/len(text)\n",
    "def void_freq(text):\n",
    "    return text.count('void')/len(text)\n",
    "def module_freq(text):\n",
    "    return text.count('module')/len(text)\n",
    "def printp_freq(text):\n",
    "    return text.count('print(')/len(text)\n",
    "def elsif_freq(text):\n",
    "    return text.count('elsif')/len(text)\n",
    "\n",
    "def where_freq(text):\n",
    "    return text.count('where')/len(text)\n",
    "def var_freq(text):\n",
    "    return text.count('var')/len(text)\n",
    "    \n",
    "def function_freq(text):\n",
    "    return text.count('function')/len(text)\n",
    "\n",
    "def end_freq(text):\n",
    "    return text.count('end')/len(text)\n",
    "    \n",
    "def case_freq(text):\n",
    "    return text.count('case')/len(text)\n",
    "\n",
    "def type_freq(text):\n",
    "    return text.count('type')/len(text)\n",
    "\n",
    "def object_freq(text):\n",
    "    return text.count('object')/len(text)\n",
    "def private_freq(text):\n",
    "    return text.count('private')/len(text)\n",
    "def public_freq(text):\n",
    "    return text.count('public')/len(text)\n",
    "def def_freq(text):\n",
    "    return text.count('def ')/len(text)\n",
    "def implicit_freq(text):\n",
    "    return text.count('implicit')/len(text)\n",
    "def final_freq(text):\n",
    "    return text.count('final')/len(text)\n",
    "def proc_freq(text):\n",
    "    return text.count('proc')/len(text)\n",
    "def set_freq(text):\n",
    "    return text.count('set')/len(text)\n",
    "def return_freq(text):\n",
    "    return text.count('return')/len(text)\n",
    "def if_freq(text):\n",
    "    return text.count('if')/len(text)\n",
    "def dict_freq(text):\n",
    "    return text.count('dict')/len(text)\n",
    "def extend_freq(text):\n",
    "    return text.count('extend')/len(text)\n",
    "def colon_2_freq(text):\n",
    "    return text.count('::')/len(text)\n",
    "def require_freq(text):\n",
    "    return text.count('require')/len(text)\n",
    "def String_freq(text):\n",
    "    return text.count('String')/len(text)\n",
    "def defun_freq(text):\n",
    "    return text.count('defun')/len(text)\n",
    "def eql_freq(text):\n",
    "    return text.count('eql')/len(text)\n",
    "def boolean_freq(text):\n",
    "    return text.count('boolean')/len(text)\n",
    "def List_freq(text):\n",
    "    return text.count('List')/len(text)\n",
    "def package_freq(text):\n",
    "    return text.count('package')/len(text)\n",
    "def paren_define_freq(text):\n",
    "    return text.count('(define')/len(text)\n",
    "def paren_lambda_freq(text):\n",
    "    return text.count('(lambda')/len(text)\n",
    "def paren_con_freq(text):\n",
    "    return text.count('(con')/len(text)\n",
    "def intero_null_freq(text):\n",
    "    return text.count('null?')/len(text)\n",
    "def my_freq(text):\n",
    "    return text.count('my')/len(text)\n",
    "def setf_freq(text):\n",
    "    return text.count('setf')/len(text)\n",
    "def nth_freq(text):\n",
    "    return text.count('nth')/len(text)\n",
    "def interface_freq(text):\n",
    "    return text.count('interface')/len(text)\n",
    "def dollar_this_freq(text):\n",
    "    return text.count('$this')/len(text)\n",
    "def data_freq(text):\n",
    "    return text.count('data')/len(text)\n",
    "def deriving_freq(text):\n",
    "    return text.count('deriving')/len(text)\n",
    "def foldr_freq(text):\n",
    "    return text.count('foldr')/len(text)\n",
    "def printf_freq(text):\n",
    "    return text.count('printf')/len(text)\n",
    "def pound_include_freq(text):\n",
    "    return text.count('#include')/len(text)\n",
    "def Any_freq(text):\n",
    "    return text.count('Any')/len(text)\n",
    "def stdioh_freq(text):\n",
    "    return text.count('stdio.h')/len(text)\n",
    "def paren_and_freq(text):\n",
    "    return text.count('(and')/len(text)\n",
    "def namespace_freq(text):\n",
    "    return text.count('namespace')/len(text)\n",
    "def int_main_freq(text):\n",
    "    return text.count('int main')/len(text)\n",
    "def dotimes_freq(text):\n",
    "    return text.count('dotimes')/len(text)\n",
    "def dolist_freq(text):\n",
    "    return text.count('dolist')/len(text)\n",
    "def makelist_freq(text):\n",
    "    return text.count('make-list')/len(text)\n",
    "def mapcar_freq(text):\n",
    "    return text.count('mapcar')/len(text)\n",
    "def say_freq(text):\n",
    "    return text.count('say ')/len(text)\n",
    "def dollar_under_freq(text):\n",
    "    return text.count('$_')/len(text)\n",
    "\n",
    "\n",
    "def avg_word_len(text):\n",
    "    words = re.split('\\W*', text)\n",
    "    return sum([len(word) for word in words])/len(words)\n",
    "\n",
    "def percentage_of_punctuation(text):\n",
    "    total_length = len(text)\n",
    "    text = re.sub(r'[\\w\\s]', '', text)\n",
    "    punc_length = len(text)\n",
    "    \n",
    "    return punc_length / total_length\n",
    "\n",
    "def case_ratio(text):\n",
    "    try:\n",
    "        up = text.count(r'A-Z')\n",
    "        down = text.count(r'a-z')\n",
    "        return up/down\n",
    "    except:\n",
    "        return 0\n",
    "    \n",
    "def camel_case(text):\n",
    "    if re.search(r'[ .]+[a-z]*[A-Z]*[a-z]*', text):\n",
    "        return True\n",
    "    else:\n",
    "        return False\n",
    "    \n",
    "def end_end(text):\n",
    "    if re.search(r'end *end', text):\n",
    "        return True\n",
    "    else:\n",
    "        return False\n"
   ]
  },
  {
   "cell_type": "code",
   "execution_count": 406,
   "metadata": {
    "collapsed": false
   },
   "outputs": [],
   "source": [
    "features = FunctionFeaturizer(paren_freq, thesis_freq, brac_freq,\n",
    "                              ket_freq, lesser_freq, greater_freq,\n",
    "                              slash_freq, dollar_freq, double_quote_freq,\n",
    "                              space_freq, semi_freq, colon_freq, defn_freq,\n",
    "                              import_freq, at_freq, star_freq, avg_word_len,\n",
    "                              percentage_of_punctuation, null_freq, NIL_freq,\n",
    "                              void_freq, var_freq, function_freq, end_freq,\n",
    "                              pipe_freq, __freq, hyph_freq, dundr_freq,\n",
    "                              case_ratio, case_freq, val_freq, type_freq,\n",
    "                              object_freq, private_freq, public_freq,\n",
    "                              def_freq, implicit_freq, final_freq, proc_freq,\n",
    "                              set_freq, carrot_freq, if_freq, dict_freq,\n",
    "                              arrow_freq, module_freq, extend_freq,\n",
    "                              colon_2_freq, arrow_2_freq, require_freq,\n",
    "                              from_freq, printp_freq, brackets_freq,\n",
    "                              call_freq, p_extend_freq, paren_colon,\n",
    "                              paren_define_freq, paren_plus, paren_lambda_freq,\n",
    "                              String_freq, boolean_freq, slash_splat_freq,\n",
    "                              let_freq, paren_con_freq, quote_paren_freq,\n",
    "                              where_freq, space_dot_freq, pipe_2_freq,\n",
    "                              and_2_freq, camel_case, p_extend_hyph_freq,\n",
    "                              package_freq, List_freq, slash_2_freq,\n",
    "                              subst_freq, new_freq, old_freq, using_freq,\n",
    "                              static_freq, Console_freq, defun_freq, \n",
    "                              eql_freq, hyph_2_freq, curl_hyph_freq,\n",
    "                              intero_null_freq, setf_freq, nth_freq,\n",
    "                              dollar_this_freq, data_freq, deriving_freq,\n",
    "                              foldr_freq, printf_freq, pound_include_freq,\n",
    "                              Any_freq, stdioh_freq, paren_and_freq, \n",
    "                              elsif_freq, namespace_freq, interface_freq,\n",
    "                              int_main_freq, println_freq, dotimes_freq,\n",
    "                              dolist_freq, makelist_freq, mapcar_freq)\n"
   ]
  },
  {
   "cell_type": "code",
   "execution_count": 485,
   "metadata": {
    "collapsed": true
   },
   "outputs": [],
   "source": [
    "lang_X_train, lang_X_test, lang_y_train, lang_y_test = train_test_split(lang_X, lang_y)"
   ]
  },
  {
   "cell_type": "code",
   "execution_count": 486,
   "metadata": {
    "collapsed": false
   },
   "outputs": [
    {
     "data": {
      "text/plain": [
       "0.96384260900389929"
      ]
     },
     "execution_count": 486,
     "metadata": {},
     "output_type": "execute_result"
    }
   ],
   "source": [
    "pipe = make_pipeline(features, DecisionTreeClassifier())\n",
    "pipe.fit(lang_X_train, lang_y_train)\n",
    "pipe.score(lang_X_train, lang_y_train)"
   ]
  },
  {
   "cell_type": "code",
   "execution_count": 487,
   "metadata": {
    "collapsed": false
   },
   "outputs": [
    {
     "name": "stdout",
     "output_type": "stream",
     "text": [
      "0.546227417641\n",
      "             precision    recall  f1-score   support\n",
      "\n",
      "          c       0.72      0.77      0.74        75\n",
      "    clojure       0.51      0.51      0.51        51\n",
      "     csharp       0.63      0.51      0.56        47\n",
      "    haskell       0.58      0.65      0.61        88\n",
      "       java       0.63      0.60      0.62        48\n",
      " javascript       0.48      0.50      0.49        42\n",
      "       lisp       0.57      0.51      0.54       102\n",
      "      ocaml       0.63      0.69      0.66        48\n",
      "       perl       0.80      0.71      0.75        93\n",
      "        php       0.45      0.62      0.53        24\n",
      "     python       0.34      0.32      0.33       109\n",
      "       ruby       0.57      0.64      0.60       122\n",
      "      scala       0.27      0.25      0.26        67\n",
      "     scheme       0.14      0.12      0.13        25\n",
      "\n",
      "avg / total       0.54      0.55      0.54       941\n",
      "\n"
     ]
    }
   ],
   "source": [
    "print(pipe.score(lang_X_test, lang_y_test))\n",
    "print(classification_report(pipe.predict(lang_X_test), lang_y_test))"
   ]
  },
  {
   "cell_type": "code",
   "execution_count": 488,
   "metadata": {
    "collapsed": false,
    "scrolled": true
   },
   "outputs": [
    {
     "name": "stdout",
     "output_type": "stream",
     "text": [
      "['java'] clojure\n",
      "['ruby'] clojure\n",
      "['ruby'] python\n",
      "['ruby'] javascript\n",
      "['python'] ruby\n",
      "['python'] ruby\n",
      "['python'] ruby\n",
      "['scala'] haskell\n",
      "['scala'] haskell\n",
      "['python'] scheme\n",
      "['perl'] scheme\n",
      "['haskell'] scheme\n",
      "['haskell'] scala\n",
      "['ruby'] scala\n",
      "['php'] tcl\n",
      "['scala'] tcl\n",
      "['perl'] php\n",
      "['perl'] php\n",
      "['scala'] php\n",
      "['javascript'] ocaml\n",
      "['lisp'] ocaml\n",
      "0.34375\n"
     ]
    }
   ],
   "source": [
    "with open('test.csv') as test_csv:\n",
    "    from csv import reader\n",
    "    test_files = reader(test_csv)\n",
    "    right = 0\n",
    "    for line in test_files:\n",
    "        with open('test/'+line[0]+'.txt') as test:\n",
    "            pred = pipe.predict([test.read()])\n",
    "            if pred == line[1]:\n",
    "                right += 1\n",
    "            else:\n",
    "                print(pred, line[1])\n",
    "    print(right/32)\n",
    "        "
   ]
  },
  {
   "cell_type": "code",
   "execution_count": 473,
   "metadata": {
    "collapsed": false
   },
   "outputs": [
    {
     "name": "stdout",
     "output_type": "stream",
     "text": [
      "perl perl perl perl perl perl perl perl perl perl perl perl perl perl perl perl perl perl perl perl perl perl perl perl perl perl perl perl perl perl perl perl perl perl perl perl perl perl perl perl perl perl perl perl perl perl perl perl perl perl perl perl perl perl perl perl perl perl perl perl perl perl perl perl perl perl perl perl perl perl perl perl perl perl perl perl perl perl perl perl perl ruby perl perl perl perl perl "
     ]
    }
   ],
   "source": [
    "for x in range(len(lang_X)):\n",
    "    if lang_X[x].count('$_ '):\n",
    "        print(lang_y[x], end=' ')"
   ]
  },
  {
   "cell_type": "code",
   "execution_count": 474,
   "metadata": {
    "collapsed": false
   },
   "outputs": [
    {
     "ename": "IndentationError",
     "evalue": "unexpected indent (<ipython-input-474-becb4d9e7ef9>, line 2)",
     "output_type": "error",
     "traceback": [
      "\u001b[0;36m  File \u001b[0;32m\"<ipython-input-474-becb4d9e7ef9>\"\u001b[0;36m, line \u001b[0;32m2\u001b[0m\n\u001b[0;31m    'csharp' - 'namespace', 'void '\u001b[0m\n\u001b[0m    ^\u001b[0m\n\u001b[0;31mIndentationError\u001b[0m\u001b[0;31m:\u001b[0m unexpected indent\n"
     ]
    }
   ],
   "source": [
    "'c' - 'stdio.h'\n",
    "    'csharp' - 'namespace', 'void '\n",
    "    'java' - 'void '\n",
    "\n",
    "'lisp' - '(defun', 'let '\n",
    "    'haskell' - dollar_freq?\n",
    "    'php' - dollar_freq?\n",
    "'perl' - 'my ', 'say ', '$_'\n",
    "\n",
    "    'python' - space_freq?\n",
    "    'ruby' - r'end *end', 'say '\n",
    "'javascript' - 'var '\n",
    "    'scala' - 'var ', 'let '\n",
    "'clojure' - 'defn', 'let'\n",
    "'ocaml' - 'let', 'end'\n",
    "'scheme' - 'let'"
   ]
  },
  {
   "cell_type": "code",
   "execution_count": 484,
   "metadata": {
    "collapsed": true
   },
   "outputs": [],
   "source": [
    "features = FunctionFeaturizer(stdioh_freq, namespace_freq, void_freq, \n",
    "                              defun_freq, let_freq, dollar_freq, my_freq, \n",
    "                              say_freq, dollar_under_freq, space_freq,\n",
    "                              var_freq, defn_freq, end_freq, end_end,\n",
    "                              camel_case)\n"
   ]
  },
  {
   "cell_type": "code",
   "execution_count": null,
   "metadata": {
    "collapsed": true
   },
   "outputs": [],
   "source": []
  }
 ],
 "metadata": {
  "kernelspec": {
   "display_name": "Python 3",
   "language": "python",
   "name": "python3"
  },
  "language_info": {
   "codemirror_mode": {
    "name": "ipython",
    "version": 3
   },
   "file_extension": ".py",
   "mimetype": "text/x-python",
   "name": "python",
   "nbconvert_exporter": "python",
   "pygments_lexer": "ipython3",
   "version": "3.4.3"
  }
 },
 "nbformat": 4,
 "nbformat_minor": 0
}
