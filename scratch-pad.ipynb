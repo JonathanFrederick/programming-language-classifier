{
 "cells": [
  {
   "cell_type": "code",
   "execution_count": 1,
   "metadata": {
    "collapsed": false
   },
   "outputs": [],
   "source": [
    "from bs4 import BeautifulSoup\n",
    "import requests\n",
    "import re\n",
    "import numpy as np\n",
    "from sklearn.base import TransformerMixin\n",
    "from sklearn.pipeline import make_pipeline, make_union\n",
    "from sklearn.tree import DecisionTreeClassifier\n",
    "from sklearn.cross_validation import train_test_split"
   ]
  },
  {
   "cell_type": "code",
   "execution_count": 2,
   "metadata": {
    "collapsed": false
   },
   "outputs": [],
   "source": [
    "urls_page = BeautifulSoup(requests.get('http://rosettacode.org/wiki/Category:Solutions_by_Programming_Task').content, 'html.parser').find_all('div', {'class' : 'mw-content-ltr'})[-1]"
   ]
  },
  {
   "cell_type": "code",
   "execution_count": 4,
   "metadata": {
    "collapsed": false
   },
   "outputs": [],
   "source": [
    "#urls_page.find('div', {'class' : 'mw-content-ltr'})\n",
    "urls = re.findall(r'href=\"(.*)\" ', str(urls_page))[:15]\n",
    "pages = [BeautifulSoup(requests.get('http://rosettacode.org'+url).content, 'html.parser') for url in urls]"
   ]
  },
  {
   "cell_type": "code",
   "execution_count": null,
   "metadata": {
    "collapsed": false
   },
   "outputs": [],
   "source": [
    "#doors = requests.get('http://rosettacode.org/wiki/100_doors')\n",
    "\n",
    "doors = BeautifulSoup(requests.get('http://rosettacode.org/wiki/100_doors').content, 'html.parser')\n",
    "\n"
   ]
  },
  {
   "cell_type": "code",
   "execution_count": null,
   "metadata": {
    "collapsed": false
   },
   "outputs": [],
   "source": [
    "doors.prettify"
   ]
  },
  {
   "cell_type": "code",
   "execution_count": null,
   "metadata": {
    "collapsed": false
   },
   "outputs": [],
   "source": [
    "langs = ['c', 'csharp', 'lisp', 'clojure', 'haskell', \n",
    "         'java', 'javascript', 'ocaml', 'perl', 'php', \n",
    "         'python', 'ruby', 'scala', 'scheme']\n",
    "\n",
    "# lang_dict = {lang : '' for lang in langs}\n",
    "lang_X = []\n",
    "lang_y = []\n",
    "\n",
    "for url in urls:\n",
    "for string in doors.find_all('pre'):\n",
    "    for lang in langs:\n",
    "        if re.search(r'\"'+ lang + ' hi', str(string)):\n",
    "            # lang_dict[lang] = lang_dict[lang] + string.get_text()\n",
    "            lang_X.append(string)\n",
    "            lang_y.append(lang)\n",
    "#print(lang_dict)"
   ]
  },
  {
   "cell_type": "code",
   "execution_count": null,
   "metadata": {
    "collapsed": false
   },
   "outputs": [],
   "source": [
    "for lang in lang_dict:\n",
    "    print(lang, \" - - \", lang_dict[lang], end='\\n\\n')"
   ]
  },
  {
   "cell_type": "code",
   "execution_count": null,
   "metadata": {
    "collapsed": true
   },
   "outputs": [],
   "source": [
    "class FunctionFeaturizer(TransformerMixin):\n",
    "    def __init__(self, *featurizers):\n",
    "        self.featurizers = featurizers\n",
    "        \n",
    "    def fit(self, X, y=None):\n",
    "        '''Returns self after transformations'''\n",
    "        return self\n",
    "    \n",
    "    def transform(self, X):\n",
    "        '''Given a list of original data, return a list of feature vectors'''\n",
    "        feature_vectors = []\n",
    "        for x in X:\n",
    "            feature_vector = [f(x) for f in self.featurizers]\n",
    "            feature_vectors.append(feature_vector)\n",
    "        return np.array(feature_vectors)"
   ]
  },
  {
   "cell_type": "code",
   "execution_count": null,
   "metadata": {
    "collapsed": true
   },
   "outputs": [],
   "source": [
    "features = FunctionFeaturizer(len)"
   ]
  },
  {
   "cell_type": "code",
   "execution_count": null,
   "metadata": {
    "collapsed": true
   },
   "outputs": [],
   "source": [
    "lang_X_train, lang_X_test, lang_y_train, lang_y_test = train_test_split(lang_X, lang_y)"
   ]
  },
  {
   "cell_type": "code",
   "execution_count": null,
   "metadata": {
    "collapsed": false
   },
   "outputs": [],
   "source": [
    "pipe = make_pipeline(features, DecisionTreeClassifier())\n",
    "pipe.fit(lang_X_train, lang_y_train)\n",
    "pipe.score(lang_X_train, lang_y_train)"
   ]
  },
  {
   "cell_type": "code",
   "execution_count": null,
   "metadata": {
    "collapsed": false
   },
   "outputs": [],
   "source": [
    "pipe.score(lang_X_test, lang_y_test)"
   ]
  },
  {
   "cell_type": "code",
   "execution_count": null,
   "metadata": {
    "collapsed": false
   },
   "outputs": [],
   "source": []
  },
  {
   "cell_type": "code",
   "execution_count": null,
   "metadata": {
    "collapsed": true
   },
   "outputs": [],
   "source": []
  }
 ],
 "metadata": {
  "kernelspec": {
   "display_name": "Python 3",
   "language": "python",
   "name": "python3"
  },
  "language_info": {
   "codemirror_mode": {
    "name": "ipython",
    "version": 3
   },
   "file_extension": ".py",
   "mimetype": "text/x-python",
   "name": "python",
   "nbconvert_exporter": "python",
   "pygments_lexer": "ipython3",
   "version": "3.4.3"
  }
 },
 "nbformat": 4,
 "nbformat_minor": 0
}
